{
  "nbformat": 4,
  "nbformat_minor": 0,
  "metadata": {
    "colab": {
      "name": "Historical_Volatility_RMSLogReturns.ipynb",
      "provenance": []
    },
    "kernelspec": {
      "name": "python3",
      "display_name": "Python 3"
    },
    "language_info": {
      "name": "python"
    }
  },
  "cells": [
    {
      "cell_type": "markdown",
      "metadata": {
        "id": "8l9Ty7wri7oA"
      },
      "source": [
        "# 1.0 Import Libraries"
      ]
    },
    {
      "cell_type": "code",
      "metadata": {
        "id": "HF8dmXebRu-b"
      },
      "source": [
        "import pandas as pd\n",
        "from datetime import datetime\n",
        "from pandas_datareader import data as web\n",
        "import matplotlib.pyplot as plt\n",
        "import numpy as np\n",
        "import statistics\n",
        "import math\n",
        "plt.style.use(\"dark_background\")"
      ],
      "execution_count": null,
      "outputs": []
    },
    {
      "cell_type": "markdown",
      "metadata": {
        "id": "maop5-LUjIAF"
      },
      "source": [
        "# 2.0 Set Tickers & Parameters"
      ]
    },
    {
      "cell_type": "code",
      "metadata": {
        "id": "J91E9LBaRzlW"
      },
      "source": [
        "stock=\"PETR4.SA\"#@param {type: \"string\"}\n",
        "inicio=\"2017-01-01\"#@param {type: \"date\"}\n",
        "final=datetime.today().strftime(\"%Y-%m-%d\")"
      ],
      "execution_count": null,
      "outputs": []
    },
    {
      "cell_type": "markdown",
      "metadata": {
        "id": "csKNCjrSjSLh"
      },
      "source": [
        "# 3.0 Plot Returns"
      ]
    },
    {
      "cell_type": "code",
      "metadata": {
        "colab": {
          "base_uri": "https://localhost:8080/",
          "height": 309
        },
        "id": "XiB1B3S_SWcW",
        "outputId": "c40e071c-b940-423e-efbf-926142cfc523"
      },
      "source": [
        "df=pd.DataFrame()\n",
        "df=web.DataReader(stock, data_source=\"yahoo\",start=inicio, end=final)\n",
        "returns=df.pct_change()\n",
        "# mostrando o gráfico de retornos logaritimicos diarios\n",
        "title=\"Cotação Histórica\"\n",
        "plt.plot(returns[\"Adj Close\"])\n",
        "plt.title(title,fontsize=20)\n",
        "plt.xlabel(\"Data\", fontsize=18)\n",
        "plt.ylabel(\"Daily Returns\", fontsize=18)\n",
        "plt.show()\n"
      ],
      "execution_count": null,
      "outputs": [
        {
          "output_type": "display_data",
          "data": {
            "image/png": "[encoded data removed]",
            "text/plain": [
              "<Figure size 432x288 with 1 Axes>"
            ]
          },
          "metadata": {
            "tags": []
          }
        }
      ]
    },
    {
      "cell_type": "markdown",
      "metadata": {
        "id": "RtBDsWZojf13"
      },
      "source": [
        "# 4.0 Log Returns & Root Mean Squared"
      ]
    },
    {
      "cell_type": "code",
      "metadata": {
        "colab": {
          "base_uri": "https://localhost:8080/",
          "height": 450
        },
        "id": "AF_NgjoCVgoJ",
        "outputId": "bb1cd741-894b-4539-f06f-97e34114335f"
      },
      "source": [
        "# Log Returns\n",
        "returns[\"Log Returns\"]=np.log(1+returns[\"Adj Close\"])\n",
        "returns=returns.dropna()\n",
        "returns[\"RMS\"]=returns[\"Log Returns\"]**2\n",
        "returns\n",
        "\n"
      ],
      "execution_count": null,
      "outputs": [
        {
          "output_type": "execute_result",
          "data": {
            "text/html": [
              "<div>\n",
              "<style scoped>\n",
              "    .dataframe tbody tr th:only-of-type {\n",
              "        vertical-align: middle;\n",
              "    }\n",
              "\n",
              "    .dataframe tbody tr th {\n",
              "        vertical-align: top;\n",
              "    }\n",
              "\n",
              "    .dataframe thead th {\n",
              "        text-align: right;\n",
              "    }\n",
              "</style>\n",
              "<table border=\"1\" class=\"dataframe\">\n",
              "  <thead>\n",
              "    <tr style=\"text-align: right;\">\n",
              "      <th></th>\n",
              "      <th>High</th>\n",
              "      <th>Low</th>\n",
              "      <th>Open</th>\n",
              "      <th>Close</th>\n",
              "      <th>Volume</th>\n",
              "      <th>Adj Close</th>\n",
              "      <th>Log Returns</th>\n",
              "      <th>RMS</th>\n",
              "    </tr>\n",
              "    <tr>\n",
              "      <th>Date</th>\n",
              "      <th></th>\n",
              "      <th></th>\n",
              "      <th></th>\n",
              "      <th></th>\n",
              "      <th></th>\n",
              "      <th></th>\n",
              "      <th></th>\n",
              "      <th></th>\n",
              "    </tr>\n",
              "  </thead>\n",
              "  <tbody>\n",
              "    <tr>\n",
              "      <th>2017-01-03</th>\n",
              "      <td>0.064626</td>\n",
              "      <td>0.023973</td>\n",
              "      <td>0.021175</td>\n",
              "      <td>0.057299</td>\n",
              "      <td>4.308184</td>\n",
              "      <td>0.057299</td>\n",
              "      <td>0.055717</td>\n",
              "      <td>0.003104</td>\n",
              "    </tr>\n",
              "    <tr>\n",
              "      <th>2017-01-04</th>\n",
              "      <td>0.001917</td>\n",
              "      <td>0.024080</td>\n",
              "      <td>0.033445</td>\n",
              "      <td>0.000000</td>\n",
              "      <td>-0.071996</td>\n",
              "      <td>0.000000</td>\n",
              "      <td>0.000000</td>\n",
              "      <td>0.000000</td>\n",
              "    </tr>\n",
              "    <tr>\n",
              "      <th>2017-01-05</th>\n",
              "      <td>0.014668</td>\n",
              "      <td>0.020248</td>\n",
              "      <td>0.016181</td>\n",
              "      <td>0.016129</td>\n",
              "      <td>0.283629</td>\n",
              "      <td>0.016129</td>\n",
              "      <td>0.016000</td>\n",
              "      <td>0.000256</td>\n",
              "    </tr>\n",
              "    <tr>\n",
              "      <th>2017-01-06</th>\n",
              "      <td>0.000629</td>\n",
              "      <td>-0.007682</td>\n",
              "      <td>0.005096</td>\n",
              "      <td>-0.005714</td>\n",
              "      <td>-0.462198</td>\n",
              "      <td>-0.005714</td>\n",
              "      <td>-0.005731</td>\n",
              "      <td>0.000033</td>\n",
              "    </tr>\n",
              "    <tr>\n",
              "      <th>2017-01-09</th>\n",
              "      <td>-0.020100</td>\n",
              "      <td>-0.010968</td>\n",
              "      <td>-0.017744</td>\n",
              "      <td>-0.021073</td>\n",
              "      <td>0.000274</td>\n",
              "      <td>-0.021073</td>\n",
              "      <td>-0.021298</td>\n",
              "      <td>0.000454</td>\n",
              "    </tr>\n",
              "    <tr>\n",
              "      <th>...</th>\n",
              "      <td>...</td>\n",
              "      <td>...</td>\n",
              "      <td>...</td>\n",
              "      <td>...</td>\n",
              "      <td>...</td>\n",
              "      <td>...</td>\n",
              "      <td>...</td>\n",
              "      <td>...</td>\n",
              "    </tr>\n",
              "    <tr>\n",
              "      <th>2021-06-17</th>\n",
              "      <td>-0.003073</td>\n",
              "      <td>-0.029892</td>\n",
              "      <td>-0.002407</td>\n",
              "      <td>-0.034660</td>\n",
              "      <td>0.230286</td>\n",
              "      <td>-0.034660</td>\n",
              "      <td>-0.035275</td>\n",
              "      <td>0.001244</td>\n",
              "    </tr>\n",
              "    <tr>\n",
              "      <th>2021-06-18</th>\n",
              "      <td>-0.026712</td>\n",
              "      <td>-0.009674</td>\n",
              "      <td>-0.034816</td>\n",
              "      <td>0.006754</td>\n",
              "      <td>0.209796</td>\n",
              "      <td>0.006754</td>\n",
              "      <td>0.006732</td>\n",
              "      <td>0.000045</td>\n",
              "    </tr>\n",
              "    <tr>\n",
              "      <th>2021-06-21</th>\n",
              "      <td>0.020408</td>\n",
              "      <td>0.027496</td>\n",
              "      <td>0.014286</td>\n",
              "      <td>0.022246</td>\n",
              "      <td>-0.560006</td>\n",
              "      <td>0.022246</td>\n",
              "      <td>0.022002</td>\n",
              "      <td>0.000484</td>\n",
              "    </tr>\n",
              "    <tr>\n",
              "      <th>2021-06-22</th>\n",
              "      <td>0.009310</td>\n",
              "      <td>0.009507</td>\n",
              "      <td>0.021127</td>\n",
              "      <td>0.005181</td>\n",
              "      <td>-0.179589</td>\n",
              "      <td>0.005181</td>\n",
              "      <td>0.005168</td>\n",
              "      <td>0.000027</td>\n",
              "    </tr>\n",
              "    <tr>\n",
              "      <th>2021-06-23</th>\n",
              "      <td>0.008541</td>\n",
              "      <td>0.011510</td>\n",
              "      <td>0.008621</td>\n",
              "      <td>0.006873</td>\n",
              "      <td>0.372707</td>\n",
              "      <td>0.006873</td>\n",
              "      <td>0.006849</td>\n",
              "      <td>0.000047</td>\n",
              "    </tr>\n",
              "  </tbody>\n",
              "</table>\n",
              "<p>1108 rows × 8 columns</p>\n",
              "</div>"
            ],
            "text/plain": [
              "                High       Low      Open  ...  Adj Close  Log Returns       RMS\n",
              "Date                                      ...                                  \n",
              "2017-01-03  0.064626  0.023973  0.021175  ...   0.057299     0.055717  0.003104\n",
              "2017-01-04  0.001917  0.024080  0.033445  ...   0.000000     0.000000  0.000000\n",
              "2017-01-05  0.014668  0.020248  0.016181  ...   0.016129     0.016000  0.000256\n",
              "2017-01-06  0.000629 -0.007682  0.005096  ...  -0.005714    -0.005731  0.000033\n",
              "2017-01-09 -0.020100 -0.010968 -0.017744  ...  -0.021073    -0.021298  0.000454\n",
              "...              ...       ...       ...  ...        ...          ...       ...\n",
              "2021-06-17 -0.003073 -0.029892 -0.002407  ...  -0.034660    -0.035275  0.001244\n",
              "2021-06-18 -0.026712 -0.009674 -0.034816  ...   0.006754     0.006732  0.000045\n",
              "2021-06-21  0.020408  0.027496  0.014286  ...   0.022246     0.022002  0.000484\n",
              "2021-06-22  0.009310  0.009507  0.021127  ...   0.005181     0.005168  0.000027\n",
              "2021-06-23  0.008541  0.011510  0.008621  ...   0.006873     0.006849  0.000047\n",
              "\n",
              "[1108 rows x 8 columns]"
            ]
          },
          "metadata": {
            "tags": []
          },
          "execution_count": 6
        }
      ]
    },
    {
      "cell_type": "markdown",
      "metadata": {
        "id": "7uCSkkRxjq5j"
      },
      "source": [
        "# 5.0 Statistics"
      ]
    },
    {
      "cell_type": "code",
      "metadata": {
        "id": "jRjkjMojeDfV"
      },
      "source": [
        "media=statistics.mean(returns[\"RMS\"])\n",
        "last_step=math.sqrt(media)\n"
      ],
      "execution_count": null,
      "outputs": []
    },
    {
      "cell_type": "markdown",
      "metadata": {
        "id": "WvP2lRsdj11J"
      },
      "source": [
        "# 6.0 Output Historical Volatility"
      ]
    },
    {
      "cell_type": "code",
      "metadata": {
        "colab": {
          "base_uri": "https://localhost:8080/"
        },
        "id": "MlJ_YF4Rf3YO",
        "outputId": "bbb0e885-659b-402f-dc88-246b56fd12bc"
      },
      "source": [
        "# Anualizar\n",
        "anualizado=last_step*(252/1)**0.5\n",
        "print(anualizado)\n",
        "print(f\"Historical Volatility: {anualizado*100}%\")"
      ],
      "execution_count": null,
      "outputs": [
        {
          "output_type": "stream",
          "text": [
            "0.5050819890252775\n",
            "Historical Volatility: 50.508198902527745%\n"
          ],
          "name": "stdout"
        }
      ]
    }
  ]
}